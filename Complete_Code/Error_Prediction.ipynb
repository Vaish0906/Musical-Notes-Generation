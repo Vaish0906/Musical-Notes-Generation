{
 "cells": [
  {
   "cell_type": "code",
   "execution_count": null,
   "metadata": {},
   "outputs": [],
   "source": [
    "''' Here the values of expected and prediction list are the indices of the charcters '''\n",
    "from sklearn.metrics import mean_squared_error\n",
    "from math import sqrt\n",
    "expected = [0, 5, 0, 5, 0]\n",
    "predictions = [2, 4, 1, 6, 2]\n",
    "mse = mean_squared_error(expected, predictions)\n",
    "rmse = sqrt(mse)\n",
    "print('RMSE: %f' % rmse)"
   ]
  },
  {
   "cell_type": "code",
   "execution_count": null,
   "metadata": {},
   "outputs": [],
   "source": [
    "from sklearn.metrics import mean_absolute_error\n",
    "expected = [0, 5, 0, 5, 0]\n",
    "predictions = [2, 4, 1, 6, 2]\n",
    "mae = mean_absolute_error(expected, predictions)\n",
    "print('MAE: %f' % mae)"
   ]
  },
  {
   "cell_type": "code",
   "execution_count": null,
   "metadata": {},
   "outputs": [],
   "source": [
    "from sklearn.metrics import mean_absolute_error\n",
    "expected = [0, 5, 0, 5, 0]\n",
    "predictions = [2, 4, 1, 6, 2]\n",
    "mae = mean_absolute_error(expected, predictions)\n",
    "print('MAE: %f' % mae)"
   ]
  }
 ],
 "metadata": {
  "kernelspec": {
   "display_name": "Python 3",
   "language": "python",
   "name": "python3"
  },
  "language_info": {
   "codemirror_mode": {
    "name": "ipython",
    "version": 3
   },
   "file_extension": ".py",
   "mimetype": "text/x-python",
   "name": "python",
   "nbconvert_exporter": "python",
   "pygments_lexer": "ipython3",
   "version": "3.7.2"
  }
 },
 "nbformat": 4,
 "nbformat_minor": 2
}
